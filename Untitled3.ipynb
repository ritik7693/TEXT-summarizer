{
  "nbformat": 4,
  "nbformat_minor": 0,
  "metadata": {
    "colab": {
      "provenance": [],
      "authorship_tag": "ABX9TyPQIeFvPDE7wB0cZvwYyMVv",
      "include_colab_link": true
    },
    "kernelspec": {
      "name": "python3",
      "display_name": "Python 3"
    },
    "language_info": {
      "name": "python"
    }
  },
  "cells": [
    {
      "cell_type": "markdown",
      "metadata": {
        "id": "view-in-github",
        "colab_type": "text"
      },
      "source": [
        "<a href=\"https://colab.research.google.com/github/ritik7693/TEXT-summarizer/blob/main/Untitled3.ipynb\" target=\"_parent\"><img src=\"https://colab.research.google.com/assets/colab-badge.svg\" alt=\"Open In Colab\"/></a>"
      ]
    },
    {
      "cell_type": "code",
      "execution_count": 1,
      "metadata": {
        "colab": {
          "base_uri": "https://localhost:8080/"
        },
        "id": "-NZ6REREkVFk",
        "outputId": "55ab35d2-b26c-4900-f87c-74b0b0f6910b"
      },
      "outputs": [
        {
          "output_type": "stream",
          "name": "stdout",
          "text": [
            "Looking in indexes: https://pypi.org/simple, https://us-python.pkg.dev/colab-wheels/public/simple/\n",
            "Collecting sumy\n",
            "  Downloading sumy-0.10.0-py2.py3-none-any.whl (94 kB)\n",
            "\u001b[K     |████████████████████████████████| 94 kB 1.5 MB/s \n",
            "\u001b[?25hRequirement already satisfied: requests>=2.7.0 in /usr/local/lib/python3.7/dist-packages (from sumy) (2.23.0)\n",
            "Collecting breadability>=0.1.20\n",
            "  Downloading breadability-0.1.20.tar.gz (32 kB)\n",
            "Collecting pycountry>=18.2.23\n",
            "  Downloading pycountry-22.3.5.tar.gz (10.1 MB)\n",
            "\u001b[K     |████████████████████████████████| 10.1 MB 8.2 MB/s \n",
            "\u001b[?25h  Installing build dependencies ... \u001b[?25l\u001b[?25hdone\n",
            "  Getting requirements to build wheel ... \u001b[?25l\u001b[?25hdone\n",
            "    Preparing wheel metadata ... \u001b[?25l\u001b[?25hdone\n",
            "Collecting docopt<0.7,>=0.6.1\n",
            "  Downloading docopt-0.6.2.tar.gz (25 kB)\n",
            "Requirement already satisfied: nltk>=3.0.2 in /usr/local/lib/python3.7/dist-packages (from sumy) (3.7)\n",
            "Requirement already satisfied: chardet in /usr/local/lib/python3.7/dist-packages (from breadability>=0.1.20->sumy) (3.0.4)\n",
            "Requirement already satisfied: lxml>=2.0 in /usr/local/lib/python3.7/dist-packages (from breadability>=0.1.20->sumy) (4.9.1)\n",
            "Requirement already satisfied: regex>=2021.8.3 in /usr/local/lib/python3.7/dist-packages (from nltk>=3.0.2->sumy) (2022.6.2)\n",
            "Requirement already satisfied: click in /usr/local/lib/python3.7/dist-packages (from nltk>=3.0.2->sumy) (7.1.2)\n",
            "Requirement already satisfied: tqdm in /usr/local/lib/python3.7/dist-packages (from nltk>=3.0.2->sumy) (4.64.0)\n",
            "Requirement already satisfied: joblib in /usr/local/lib/python3.7/dist-packages (from nltk>=3.0.2->sumy) (1.1.0)\n",
            "Requirement already satisfied: setuptools in /usr/local/lib/python3.7/dist-packages (from pycountry>=18.2.23->sumy) (57.4.0)\n",
            "Requirement already satisfied: urllib3!=1.25.0,!=1.25.1,<1.26,>=1.21.1 in /usr/local/lib/python3.7/dist-packages (from requests>=2.7.0->sumy) (1.24.3)\n",
            "Requirement already satisfied: certifi>=2017.4.17 in /usr/local/lib/python3.7/dist-packages (from requests>=2.7.0->sumy) (2022.6.15)\n",
            "Requirement already satisfied: idna<3,>=2.5 in /usr/local/lib/python3.7/dist-packages (from requests>=2.7.0->sumy) (2.10)\n",
            "Building wheels for collected packages: breadability, docopt, pycountry\n",
            "  Building wheel for breadability (setup.py) ... \u001b[?25l\u001b[?25hdone\n",
            "  Created wheel for breadability: filename=breadability-0.1.20-py2.py3-none-any.whl size=21712 sha256=f7edd7c213ae955612cc660622744ff7129212ed078cdf4fef353823be02f922\n",
            "  Stored in directory: /root/.cache/pip/wheels/d4/bf/51/81d27ad638e1a6dca4f362ecc33d1e2c764b8ea7ec751b8fc1\n",
            "  Building wheel for docopt (setup.py) ... \u001b[?25l\u001b[?25hdone\n",
            "  Created wheel for docopt: filename=docopt-0.6.2-py2.py3-none-any.whl size=13723 sha256=6f3828c92840bebd6d8f73ef84d445d02cb602cf4cce1c13af5eefb12e73a6a8\n",
            "  Stored in directory: /root/.cache/pip/wheels/72/b0/3f/1d95f96ff986c7dfffe46ce2be4062f38ebd04b506c77c81b9\n",
            "  Building wheel for pycountry (PEP 517) ... \u001b[?25l\u001b[?25hdone\n",
            "  Created wheel for pycountry: filename=pycountry-22.3.5-py2.py3-none-any.whl size=10681845 sha256=6088f50e1ab4f20179dcabaded5afd1d26f85babf11486545bd2ec62ad48c262\n",
            "  Stored in directory: /root/.cache/pip/wheels/0e/06/e8/7ee176e95ea9a8a8c3b3afcb1869f20adbd42413d4611c6eb4\n",
            "Successfully built breadability docopt pycountry\n",
            "Installing collected packages: docopt, pycountry, breadability, sumy\n",
            "Successfully installed breadability-0.1.20 docopt-0.6.2 pycountry-22.3.5 sumy-0.10.0\n"
          ]
        }
      ],
      "source": [
        "!pip install sumy\n",
        "import sumy"
      ]
    },
    {
      "cell_type": "code",
      "source": [
        "from sumy.summarizers.lsa import LsaSummarizer\n"
      ],
      "metadata": {
        "id": "3ZeZj50vk251"
      },
      "execution_count": 3,
      "outputs": []
    },
    {
      "cell_type": "code",
      "source": [
        "original_text = '''Higher selenium status has been associated with lower bone turnover markers (BTM) in epidemiological studies. However, the long-term impact of selenium supplementation on BTMs has not been studied. We investigated the effects of selenium supplementation on BTMs including osteocalcin (OC), procollagen type I N-terminal propeptide (PINP), collagen type I cross-linked C-telopeptide (CTX) and bone alkaline phosphatase (BALP) in the short (6 months) and long term (5 years). 481 Danish men and women (60-74 years) were randomised to receive placebo-yeast vs. 100, 200 or 300 μg selenium as selenium-enriched yeast, daily, for 5 years. Plasma selenium concentration was measured using inductively-coupled-plasma mass spectrometry and BTMs were measured in non-fasted samples at baseline, 6 months and 5 years. Data were analysed by ANCOVA to investigate the shape of the dose response relationships. Covariates included: age, body mass index, baseline selenium status, baseline BTM, smoking, alcohol, supplement use and medication. Plasma selenium concentration (mean 86.5 μg/d at baseline) increased significantly with increasing selenium supplementation to 152.6, 209.1 and 253.7 μg/L after 6 months and remained elevated at 5 years (158.4, 222.4 and 275.9 μg/L, for 100, 200 and 300 μg supplemental selenium/d respectively (P<0.001)). There was no change in plasma selenium concentration in the placebo-treated group. There was no significant effect of selenium supplementation on OC (6 months P = 0.37; 5 years P = 0.63), PINP (6 months P = 0.37; 5 years P = 0.79), CTX (6 months P = 0.91; 5 years P = 0.58) or BALP (6 months P = 0.17; 5 years P = 0.53). The relatively replete baseline selenium status in the study participants may explain this lack of effect. Testing in more deficient populations may provide further insights into the impact of selenium supplementation on bone health. This article is protected by copyright. All rights reserved. '''"
      ],
      "metadata": {
        "id": "k22T-edxlGpE"
      },
      "execution_count": 33,
      "outputs": []
    },
    {
      "cell_type": "code",
      "source": [
        "# Parsing the text string using PlaintextParser\n",
        "import nltk\n",
        "nltk.download('punkt')\n",
        "from sumy.nlp.tokenizers import Tokenizer\n",
        "from sumy.parsers.plaintext import PlaintextParser\n",
        "parser=PlaintextParser.from_string(original_text,Tokenizer('english'))"
      ],
      "metadata": {
        "colab": {
          "base_uri": "https://localhost:8080/"
        },
        "id": "4brLpDr0lWBP",
        "outputId": "95f768fd-2c15-4b79-dbfb-a59b14da7b6e"
      },
      "execution_count": 34,
      "outputs": [
        {
          "output_type": "stream",
          "name": "stderr",
          "text": [
            "[nltk_data] Downloading package punkt to /root/nltk_data...\n",
            "[nltk_data]   Package punkt is already up-to-date!\n"
          ]
        }
      ]
    },
    {
      "cell_type": "code",
      "source": [
        "# creating the summarizer\n",
        "lsa_summarizer=LsaSummarizer()\n",
        "lsa_summary= lsa_summarizer(parser.document,3)"
      ],
      "metadata": {
        "id": "ClId_7wamO34"
      },
      "execution_count": 35,
      "outputs": []
    },
    {
      "cell_type": "code",
      "source": [
        "# Printing the summary\n",
        "for sentence in lsa_summary:\n",
        "    print(sentence)"
      ],
      "metadata": {
        "colab": {
          "base_uri": "https://localhost:8080/"
        },
        "id": "GPU6vPT3mXRh",
        "outputId": "21c88aaa-302e-4353-c79a-310f76e35ee5"
      },
      "execution_count": 36,
      "outputs": [
        {
          "output_type": "stream",
          "name": "stdout",
          "text": [
            "Higher selenium status has been associated with lower bone turnover markers (BTM) in epidemiological studies.\n",
            "We investigated the effects of selenium supplementation on BTMs including osteocalcin (OC), procollagen type I N-terminal propeptide (PINP), collagen type I cross-linked C-telopeptide (CTX) and bone alkaline phosphatase (BALP) in the short (6 months) and long term (5 years).\n",
            "Testing in more deficient populations may provide further insights into the impact of selenium supplementation on bone health.\n"
          ]
        }
      ]
    },
    {
      "cell_type": "code",
      "source": [],
      "metadata": {
        "id": "FM54Dl4NmYEl"
      },
      "execution_count": null,
      "outputs": []
    }
  ]
}